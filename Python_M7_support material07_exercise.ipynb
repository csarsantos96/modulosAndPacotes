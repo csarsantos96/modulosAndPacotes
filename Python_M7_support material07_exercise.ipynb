{
  "cells": [
    {
      "cell_type": "markdown",
      "metadata": {
        "id": "KJqp9AANOCtf"
      },
      "source": [
        "<img src=\"https://raw.githubusercontent.com/andre-marcos-perez/ebac-course-utils/main/media/logo/newebac_logo_black_half.png\" alt=\"ebac-logo\">\n",
        "\n",
        "---\n",
        "\n",
        "# **Módulo 07** | Python: Programação Orientada a Objetos\n",
        "Caderno de **Exercícios**<br> \n",
        "Professor [André Perez](https://www.linkedin.com/in/andremarcosperez/)\n",
        "\n",
        "---"
      ]
    },
    {
      "cell_type": "markdown",
      "metadata": {
        "id": "d9jDtUbDOE1-"
      },
      "source": [
        "# **Tópicos**\n",
        "\n",
        "<ol type=\"1\">\n",
        "  <li>from / import / as;</li>\n",
        "  <li>Módulo;</li>\n",
        "  <li>Pacote;</li>\n",
        "  <li>Baixando pacotes.</li>\n",
        "</ol>"
      ]
    },
    {
      "cell_type": "markdown",
      "metadata": {
        "id": "SmoHgt-lwkpD"
      },
      "source": [
        "---"
      ]
    },
    {
      "cell_type": "markdown",
      "metadata": {
        "id": "GABI6OW8OfQ2"
      },
      "source": [
        "# **Exercícios**"
      ]
    },
    {
      "cell_type": "markdown",
      "metadata": {
        "id": "muD1vxozykSC"
      },
      "source": [
        "## 0\\. Preparação do ambiente"
      ]
    },
    {
      "cell_type": "markdown",
      "metadata": {
        "id": "ahrFfCuBxJKs"
      },
      "source": [
        "Neste exercício vamos utilizar a base de dados de ações da bolsa de valores dos EUA, a Dow Jones. Os dados estão disponíveis para *download* neste [link](https://archive.ics.uci.edu/ml/datasets/Dow+Jones+Index). Vamos utilizar o pacote `wget` para fazer o *download* dos dados."
      ]
    },
    {
      "cell_type": "markdown",
      "metadata": {
        "id": "AtPc2994meNR"
      },
      "source": [
        " - Instalando o pacote `wget` na versão 3.2."
      ]
    },
    {
      "cell_type": "code",
      "execution_count": 1,
      "metadata": {
        "id": "DzM3--8Gk_mU"
      },
      "outputs": [
        {
          "name": "stdout",
          "output_type": "stream",
          "text": [
            "Defaulting to user installation because normal site-packages is not writeable\n",
            "Collecting wget==3.2\n",
            "  Downloading wget-3.2.zip (10 kB)\n",
            "  Installing build dependencies: started\n",
            "  Installing build dependencies: finished with status 'done'\n",
            "  Getting requirements to build wheel: started\n",
            "  Getting requirements to build wheel: finished with status 'done'\n",
            "  Preparing metadata (pyproject.toml): started\n",
            "  Preparing metadata (pyproject.toml): finished with status 'done'\n",
            "Building wheels for collected packages: wget\n",
            "  Building wheel for wget (pyproject.toml): started\n",
            "  Building wheel for wget (pyproject.toml): finished with status 'done'\n",
            "  Created wheel for wget: filename=wget-3.2-py3-none-any.whl size=9709 sha256=9eaa969f6e338bbbbf6bb828a9b85328a465df11e0ec2cc77c452ebb99e2eb50\n",
            "  Stored in directory: c:\\users\\cesar santos\\appdata\\local\\pip\\cache\\wheels\\01\\46\\3b\\e29ffbe4ebe614ff224bad40fc6a5773a67a163251585a13a9\n",
            "Successfully built wget\n",
            "Installing collected packages: wget\n",
            "Successfully installed wget-3.2\n"
          ]
        },
        {
          "name": "stderr",
          "output_type": "stream",
          "text": [
            "\n",
            "[notice] A new release of pip is available: 24.2 -> 25.0.1\n",
            "[notice] To update, run: python.exe -m pip install --upgrade pip\n"
          ]
        }
      ],
      "source": [
        "!pip install wget==3.2"
      ]
    },
    {
      "cell_type": "markdown",
      "metadata": {
        "id": "tVc1aUTmmkIU"
      },
      "source": [
        " - Fazendo o download dos dados no arquivo compactado `dados.zip`."
      ]
    },
    {
      "cell_type": "code",
      "execution_count": null,
      "metadata": {
        "id": "SZWlsi2blOOt"
      },
      "outputs": [],
      "source": [
        "import wget\n",
        "\n",
        "wget.download(url='https://archive.ics.uci.edu/ml/machine-learning-databases/00312/dow_jones_index.zip', out='./dados.zip')"
      ]
    },
    {
      "cell_type": "markdown",
      "metadata": {
        "id": "339oiie2mvCP"
      },
      "source": [
        " - Descompactando os `dados` na pasta dados com o pacote nativo `zipfile`."
      ]
    },
    {
      "cell_type": "code",
      "execution_count": null,
      "metadata": {
        "id": "6tFPV081loK4"
      },
      "outputs": [],
      "source": [
        "import zipfile\n",
        "\n",
        "with zipfile.ZipFile('./dados.zip', 'r') as fp:\n",
        "  fp.extractall('./dados')"
      ]
    },
    {
      "cell_type": "markdown",
      "metadata": {
        "id": "KI9zQRT2xa7m"
      },
      "source": [
        "Verifique a pasta dados criada, ela deve conter dois arquivos:\n",
        "\n",
        " - **dow_jones_index.data**: um arquivo com os dados;\n",
        " - **dow_jones_index.names**: um arquivo com a descrição completa dos dados.\n",
        "\n",
        "É possível observar que o arquivo de dados é um arquivo separado por virgulas, o famoso `csv`. Vamos renomear o arquivo de dados para que ele tenha a extensão `csv` com o pacote nativo `os`."
      ]
    },
    {
      "cell_type": "markdown",
      "metadata": {
        "id": "5k7LLQU5n8aY"
      },
      "source": [
        "- Renomeando o arquivo com o pacote nativo `os`."
      ]
    },
    {
      "cell_type": "code",
      "execution_count": null,
      "metadata": {
        "id": "PyZ2zqwcn5CU"
      },
      "outputs": [],
      "source": [
        "import os\n",
        "\n",
        "os.rename('./dados/dow_jones_index.data', './dados/dow_jones_index.csv')"
      ]
    },
    {
      "cell_type": "markdown",
      "metadata": {
        "id": "2Zf74P1yoeYc"
      },
      "source": [
        "Pronto! Abra o arquivo e o Google Colab irá apresentar uma visualização bem legal dos dados."
      ]
    },
    {
      "cell_type": "markdown",
      "metadata": {
        "id": "zMN1Q3jdwoJm"
      },
      "source": [
        "---"
      ]
    },
    {
      "cell_type": "markdown",
      "metadata": {
        "id": "FwqgmwxakNh6"
      },
      "source": [
        "## 1\\. Pandas"
      ]
    },
    {
      "cell_type": "markdown",
      "metadata": {
        "id": "It_mfyHzkRJ8"
      },
      "source": [
        "Para processar os dados, vamos utilizar o pacote `pandas` na versão `1.1.5`. A documentação completa por ser encontrada neste [link](https://pandas.pydata.org/docs/)"
      ]
    },
    {
      "cell_type": "code",
      "execution_count": null,
      "metadata": {},
      "outputs": [],
      "source": []
    },
    {
      "cell_type": "code",
      "execution_count": null,
      "metadata": {
        "id": "DF3DkjPjpn1X"
      },
      "outputs": [],
      "source": [
        "!pip3 install pandas==1.1.5"
      ]
    },
    {
      "cell_type": "markdown",
      "metadata": {
        "id": "CqVcTZE-wyBt"
      },
      "source": [
        "Vamos importar o pacote com o apelido (alias) `pd`."
      ]
    },
    {
      "cell_type": "code",
      "execution_count": 16,
      "metadata": {
        "id": "qjA_H6WapxK3"
      },
      "outputs": [],
      "source": [
        "import pandas as pd\n",
        "\n",
        "df = pd.read_csv('dow_jones_index.csv', delimiter=';', on_bad_lines=\"skip\")\n",
        "\n"
      ]
    },
    {
      "cell_type": "markdown",
      "metadata": {
        "id": "KFQ77on-w0Fo"
      },
      "source": [
        "Estamos prontos para ler o arquivo."
      ]
    },
    {
      "cell_type": "code",
      "execution_count": 20,
      "metadata": {
        "id": "-1yL07iwqWk3"
      },
      "outputs": [],
      "source": [
        "import pandas as pd\n",
        "\n",
        "df = pd.read_csv('dow_jones_index.csv', on_bad_lines='skip')\n",
        "\n"
      ]
    },
    {
      "cell_type": "markdown",
      "metadata": {
        "id": "mnLvLSWCxGt_"
      },
      "source": [
        "O pandas trabalha com o conceito de dataframe, uma estrutura de dados com muitos métodos e atributos que aceleram o processamento de dados. Alguns exemplos:"
      ]
    },
    {
      "cell_type": "markdown",
      "metadata": {
        "id": "rf6pevg7xIuQ"
      },
      "source": [
        " - Visualizando as `n` primeiras linhas:"
      ]
    },
    {
      "cell_type": "code",
      "execution_count": 21,
      "metadata": {
        "id": "fqF7AQvRqn69"
      },
      "outputs": [
        {
          "data": {
            "text/html": [
              "<div>\n",
              "<style scoped>\n",
              "    .dataframe tbody tr th:only-of-type {\n",
              "        vertical-align: middle;\n",
              "    }\n",
              "\n",
              "    .dataframe tbody tr th {\n",
              "        vertical-align: top;\n",
              "    }\n",
              "\n",
              "    .dataframe thead th {\n",
              "        text-align: right;\n",
              "    }\n",
              "</style>\n",
              "<table border=\"1\" class=\"dataframe\">\n",
              "  <thead>\n",
              "    <tr style=\"text-align: right;\">\n",
              "      <th></th>\n",
              "      <th>1. Title</th>\n",
              "    </tr>\n",
              "  </thead>\n",
              "  <tbody>\n",
              "    <tr>\n",
              "      <th>0</th>\n",
              "      <td>: Weekly stock data for Dow Jones Index</td>\n",
              "    </tr>\n",
              "    <tr>\n",
              "      <th>1</th>\n",
              "      <td>2. Source:</td>\n",
              "    </tr>\n",
              "    <tr>\n",
              "      <th>2</th>\n",
              "      <td>This dataset comprises data reported by the ma...</td>\n",
              "    </tr>\n",
              "    <tr>\n",
              "      <th>3</th>\n",
              "      <td>3. Past Usage</td>\n",
              "    </tr>\n",
              "    <tr>\n",
              "      <th>4</th>\n",
              "      <td>This dataset was first used in:</td>\n",
              "    </tr>\n",
              "    <tr>\n",
              "      <th>5</th>\n",
              "      <td>the Financial Forecasting of Dow Jones Index S...</td>\n",
              "    </tr>\n",
              "    <tr>\n",
              "      <th>6</th>\n",
              "      <td>We request that you provide a citation to this...</td>\n",
              "    </tr>\n",
              "    <tr>\n",
              "      <th>7</th>\n",
              "      <td>4. Relevant Information</td>\n",
              "    </tr>\n",
              "    <tr>\n",
              "      <th>8</th>\n",
              "      <td>\\tBut you cannot take advantage of data from a...</td>\n",
              "    </tr>\n",
              "    <tr>\n",
              "      <th>9</th>\n",
              "      <td>\\tend of the day.  You can use the data from M...</td>\n",
              "    </tr>\n",
              "  </tbody>\n",
              "</table>\n",
              "</div>"
            ],
            "text/plain": [
              "                                            1. Title\n",
              "0            : Weekly stock data for Dow Jones Index\n",
              "1                                         2. Source:\n",
              "2  This dataset comprises data reported by the ma...\n",
              "3                                      3. Past Usage\n",
              "4                    This dataset was first used in:\n",
              "5  the Financial Forecasting of Dow Jones Index S...\n",
              "6  We request that you provide a citation to this...\n",
              "7                            4. Relevant Information\n",
              "8  \\tBut you cannot take advantage of data from a...\n",
              "9  \\tend of the day.  You can use the data from M..."
            ]
          },
          "execution_count": 21,
          "metadata": {},
          "output_type": "execute_result"
        }
      ],
      "source": [
        "df.head(n=10)"
      ]
    },
    {
      "cell_type": "markdown",
      "metadata": {
        "id": "Jna7T1eqxRmH"
      },
      "source": [
        " - Visualizando o nome das colunas:"
      ]
    },
    {
      "cell_type": "code",
      "execution_count": 22,
      "metadata": {
        "id": "bX_7C45pxU8Q"
      },
      "outputs": [
        {
          "data": {
            "text/plain": [
              "['1. Title']"
            ]
          },
          "execution_count": 22,
          "metadata": {},
          "output_type": "execute_result"
        }
      ],
      "source": [
        "df.columns.to_list()"
      ]
    },
    {
      "cell_type": "markdown",
      "metadata": {
        "id": "sqLB9abQxbE-"
      },
      "source": [
        " - Verificando o número de linhas e colunas."
      ]
    },
    {
      "cell_type": "code",
      "execution_count": 23,
      "metadata": {
        "id": "sBrOUuUVxe7A"
      },
      "outputs": [
        {
          "name": "stdout",
          "output_type": "stream",
          "text": [
            "Número de linhas: 77\n",
            "Número de colunas: 1\n"
          ]
        }
      ],
      "source": [
        "linhas, colunas = df.shape\n",
        "print(f'Número de linhas: {linhas}')\n",
        "print(f'Número de colunas: {colunas}')"
      ]
    },
    {
      "cell_type": "markdown",
      "metadata": {
        "id": "bSN4zYEKyC7L"
      },
      "source": [
        "Vamos selecionar os valores de abertura, fechamento, máximo e mínimo das ações do McDonalds, listado na Dow Jones como MCD:"
      ]
    },
    {
      "cell_type": "markdown",
      "metadata": {
        "id": "CyTuPJmgzbZd"
      },
      "source": [
        " - Selecionando as linha do dataframe original `df` em que a coluna `stock` é igual a `MCD`."
      ]
    },
    {
      "cell_type": "code",
      "execution_count": 25,
      "metadata": {
        "id": "25XUDMPqqwgH"
      },
      "outputs": [],
      "source": [
        "df.columns = df.columns.str.strip()  # Remove any leading/trailing whitespace\n",
        "df = df.rename(columns={'Stock': 'stock'})  # Rename if needed\n"
      ]
    },
    {
      "cell_type": "markdown",
      "metadata": {
        "id": "ga7Z_GA0zxzA"
      },
      "source": [
        " - Selecionando apenas as colunas de data e valores de ações."
      ]
    },
    {
      "cell_type": "code",
      "execution_count": 29,
      "metadata": {
        "id": "95LDI4jCrMGI"
      },
      "outputs": [],
      "source": [
        "import pandas as pd\n",
        "df_mcd = pd.read_csv('dow_jones_index.csv', on_bad_lines='skip')\n",
        "\n"
      ]
    },
    {
      "cell_type": "markdown",
      "metadata": {
        "id": "ApnHMNYOyQ8T"
      },
      "source": [
        "Excelente, o problema é que as colunas com os valores possuem o carater `$` e são do tipo texto (`object` no `pandas`)."
      ]
    },
    {
      "cell_type": "code",
      "execution_count": 30,
      "metadata": {
        "id": "DDZZralSr0Zk"
      },
      "outputs": [
        {
          "data": {
            "text/html": [
              "<div>\n",
              "<style scoped>\n",
              "    .dataframe tbody tr th:only-of-type {\n",
              "        vertical-align: middle;\n",
              "    }\n",
              "\n",
              "    .dataframe tbody tr th {\n",
              "        vertical-align: top;\n",
              "    }\n",
              "\n",
              "    .dataframe thead th {\n",
              "        text-align: right;\n",
              "    }\n",
              "</style>\n",
              "<table border=\"1\" class=\"dataframe\">\n",
              "  <thead>\n",
              "    <tr style=\"text-align: right;\">\n",
              "      <th></th>\n",
              "      <th>1. Title</th>\n",
              "    </tr>\n",
              "  </thead>\n",
              "  <tbody>\n",
              "    <tr>\n",
              "      <th>0</th>\n",
              "      <td>: Weekly stock data for Dow Jones Index</td>\n",
              "    </tr>\n",
              "    <tr>\n",
              "      <th>1</th>\n",
              "      <td>2. Source:</td>\n",
              "    </tr>\n",
              "    <tr>\n",
              "      <th>2</th>\n",
              "      <td>This dataset comprises data reported by the ma...</td>\n",
              "    </tr>\n",
              "    <tr>\n",
              "      <th>3</th>\n",
              "      <td>3. Past Usage</td>\n",
              "    </tr>\n",
              "    <tr>\n",
              "      <th>4</th>\n",
              "      <td>This dataset was first used in:</td>\n",
              "    </tr>\n",
              "    <tr>\n",
              "      <th>5</th>\n",
              "      <td>the Financial Forecasting of Dow Jones Index S...</td>\n",
              "    </tr>\n",
              "    <tr>\n",
              "      <th>6</th>\n",
              "      <td>We request that you provide a citation to this...</td>\n",
              "    </tr>\n",
              "    <tr>\n",
              "      <th>7</th>\n",
              "      <td>4. Relevant Information</td>\n",
              "    </tr>\n",
              "    <tr>\n",
              "      <th>8</th>\n",
              "      <td>\\tBut you cannot take advantage of data from a...</td>\n",
              "    </tr>\n",
              "    <tr>\n",
              "      <th>9</th>\n",
              "      <td>\\tend of the day.  You can use the data from M...</td>\n",
              "    </tr>\n",
              "  </tbody>\n",
              "</table>\n",
              "</div>"
            ],
            "text/plain": [
              "                                            1. Title\n",
              "0            : Weekly stock data for Dow Jones Index\n",
              "1                                         2. Source:\n",
              "2  This dataset comprises data reported by the ma...\n",
              "3                                      3. Past Usage\n",
              "4                    This dataset was first used in:\n",
              "5  the Financial Forecasting of Dow Jones Index S...\n",
              "6  We request that you provide a citation to this...\n",
              "7                            4. Relevant Information\n",
              "8  \\tBut you cannot take advantage of data from a...\n",
              "9  \\tend of the day.  You can use the data from M..."
            ]
          },
          "execution_count": 30,
          "metadata": {},
          "output_type": "execute_result"
        }
      ],
      "source": [
        "df_mcd.head(n=10)"
      ]
    },
    {
      "cell_type": "code",
      "execution_count": 31,
      "metadata": {
        "id": "8cx7gP6TyjOu"
      },
      "outputs": [
        {
          "data": {
            "text/plain": [
              "1. Title    object\n",
              "dtype: object"
            ]
          },
          "execution_count": 31,
          "metadata": {},
          "output_type": "execute_result"
        }
      ],
      "source": [
        "df_mcd.dtypes"
      ]
    },
    {
      "cell_type": "markdown",
      "metadata": {
        "id": "IsSYxtOOys72"
      },
      "source": [
        "Vamos limpar as colunas com o método `apply`, que permite a aplicação de uma função anônima (`lambda`) qualquer. A função `lambda` remove o caracter **$** e faz a conversão do tipo de `str` para `float`.\n"
      ]
    },
    {
      "cell_type": "code",
      "execution_count": 36,
      "metadata": {
        "id": "u3OGT0r_sFCJ"
      },
      "outputs": [
        {
          "name": "stdout",
          "output_type": "stream",
          "text": [
            "Column 'open' not found in DataFrame.\n",
            "Column 'high' not found in DataFrame.\n",
            "Column 'low' not found in DataFrame.\n",
            "Column 'close' not found in DataFrame.\n"
          ]
        }
      ],
      "source": [
        "for col in ['open', 'high', 'low', 'close']:\n",
        "    if col in df_mcd.columns:\n",
        "        df_mcd[col] = df_mcd[col].str.replace('$', '').astype(float)\n",
        "    else:\n",
        "        print(f\"Column '{col}' not found in DataFrame.\")\n",
        "\n"
      ]
    },
    {
      "cell_type": "markdown",
      "metadata": {
        "id": "4xEkH-RdzLUi"
      },
      "source": [
        "Verifique novamente os dados e seus tipos."
      ]
    },
    {
      "cell_type": "code",
      "execution_count": 37,
      "metadata": {
        "id": "4w3-4q1gsv3Y"
      },
      "outputs": [
        {
          "data": {
            "text/html": [
              "<div>\n",
              "<style scoped>\n",
              "    .dataframe tbody tr th:only-of-type {\n",
              "        vertical-align: middle;\n",
              "    }\n",
              "\n",
              "    .dataframe tbody tr th {\n",
              "        vertical-align: top;\n",
              "    }\n",
              "\n",
              "    .dataframe thead th {\n",
              "        text-align: right;\n",
              "    }\n",
              "</style>\n",
              "<table border=\"1\" class=\"dataframe\">\n",
              "  <thead>\n",
              "    <tr style=\"text-align: right;\">\n",
              "      <th></th>\n",
              "      <th>1. Title</th>\n",
              "    </tr>\n",
              "  </thead>\n",
              "  <tbody>\n",
              "    <tr>\n",
              "      <th>0</th>\n",
              "      <td>: Weekly stock data for Dow Jones Index</td>\n",
              "    </tr>\n",
              "    <tr>\n",
              "      <th>1</th>\n",
              "      <td>2. Source:</td>\n",
              "    </tr>\n",
              "    <tr>\n",
              "      <th>2</th>\n",
              "      <td>This dataset comprises data reported by the ma...</td>\n",
              "    </tr>\n",
              "    <tr>\n",
              "      <th>3</th>\n",
              "      <td>3. Past Usage</td>\n",
              "    </tr>\n",
              "    <tr>\n",
              "      <th>4</th>\n",
              "      <td>This dataset was first used in:</td>\n",
              "    </tr>\n",
              "    <tr>\n",
              "      <th>5</th>\n",
              "      <td>the Financial Forecasting of Dow Jones Index S...</td>\n",
              "    </tr>\n",
              "    <tr>\n",
              "      <th>6</th>\n",
              "      <td>We request that you provide a citation to this...</td>\n",
              "    </tr>\n",
              "    <tr>\n",
              "      <th>7</th>\n",
              "      <td>4. Relevant Information</td>\n",
              "    </tr>\n",
              "    <tr>\n",
              "      <th>8</th>\n",
              "      <td>\\tBut you cannot take advantage of data from a...</td>\n",
              "    </tr>\n",
              "    <tr>\n",
              "      <th>9</th>\n",
              "      <td>\\tend of the day.  You can use the data from M...</td>\n",
              "    </tr>\n",
              "  </tbody>\n",
              "</table>\n",
              "</div>"
            ],
            "text/plain": [
              "                                            1. Title\n",
              "0            : Weekly stock data for Dow Jones Index\n",
              "1                                         2. Source:\n",
              "2  This dataset comprises data reported by the ma...\n",
              "3                                      3. Past Usage\n",
              "4                    This dataset was first used in:\n",
              "5  the Financial Forecasting of Dow Jones Index S...\n",
              "6  We request that you provide a citation to this...\n",
              "7                            4. Relevant Information\n",
              "8  \\tBut you cannot take advantage of data from a...\n",
              "9  \\tend of the day.  You can use the data from M..."
            ]
          },
          "execution_count": 37,
          "metadata": {},
          "output_type": "execute_result"
        }
      ],
      "source": [
        "df_mcd.head(n=10)"
      ]
    },
    {
      "cell_type": "code",
      "execution_count": 38,
      "metadata": {
        "id": "FDZyy9SVzPoK"
      },
      "outputs": [
        {
          "data": {
            "text/plain": [
              "1. Title    object\n",
              "dtype: object"
            ]
          },
          "execution_count": 38,
          "metadata": {},
          "output_type": "execute_result"
        }
      ],
      "source": [
        "df_mcd.dtypes"
      ]
    },
    {
      "cell_type": "markdown",
      "metadata": {
        "id": "lIzrYVGWkRJ9"
      },
      "source": [
        "Excelente, agora podemos explorar os dados visualmente."
      ]
    },
    {
      "cell_type": "markdown",
      "metadata": {
        "id": "_-TI78q1yuQa"
      },
      "source": [
        "**Agora é a sua vez!** Conduza o mesmo processo para extrair e tratar os dados da empresa Coca-Cola (`stock` column igual a `KO`)."
      ]
    },
    {
      "cell_type": "code",
      "execution_count": 39,
      "metadata": {
        "id": "fGbOS3kNzNNF"
      },
      "outputs": [
        {
          "ename": "SyntaxError",
          "evalue": "invalid syntax (3120023271.py, line 18)",
          "output_type": "error",
          "traceback": [
            "\u001b[1;36m  Cell \u001b[1;32mIn[39], line 18\u001b[1;36m\u001b[0m\n\u001b[1;33m    dos da empresa Coca-Cola.\u001b[0m\n\u001b[1;37m        ^\u001b[0m\n\u001b[1;31mSyntaxError\u001b[0m\u001b[1;31m:\u001b[0m invalid syntax\n"
          ]
        }
      ],
      "source": [
        "# extração e tratamento dos daimport pandas as pd\n",
        "\n",
        "# Carrega os dados (supondo que estejam num arquivo CSV)\n",
        "df = pd.read_csv('dados.csv')\n",
        "\n",
        "# Filtra os dados da Coca-Cola (stock igual a \"KO\")\n",
        "df_ko = df[df['stock'] == 'KO']\n",
        "\n",
        "# Converte a coluna de datas (se houver) para o formato datetime\n",
        "if 'date' in df_ko.columns:\n",
        "    df_ko['date'] = pd.to_datetime(df_ko['date'])\n",
        "\n",
        "# Ordena os dados pela data, se necessário\n",
        "df_ko = df_ko.sort_values(by='date')\n",
        "\n",
        "# Visualiza as primeiras linhas para conferir\n",
        "print(df_ko.head())\n",
        "dos da empresa Coca-Cola."
      ]
    },
    {
      "cell_type": "markdown",
      "metadata": {
        "id": "AAyOBwWQkRJ-"
      },
      "source": [
        "---"
      ]
    },
    {
      "cell_type": "markdown",
      "metadata": {
        "id": "1YCQI-BskR5H"
      },
      "source": [
        "## 2\\. Seaborn"
      ]
    },
    {
      "cell_type": "markdown",
      "metadata": {
        "id": "VSgsKxY4kR5I"
      },
      "source": [
        "Para visualizar os dados, vamos utilizar o pacote `seaborn` na versão `0.11.1`. A documentação completa por ser encontrada neste [link](https://seaborn.pydata.org/)"
      ]
    },
    {
      "cell_type": "code",
      "execution_count": null,
      "metadata": {
        "id": "fYNfn2eDs1MN"
      },
      "outputs": [],
      "source": [
        "!pip install seaborn==0.11.1"
      ]
    },
    {
      "cell_type": "markdown",
      "metadata": {
        "id": "DtuGrHyQ0CJ-"
      },
      "source": [
        "Vamos importar o pacote com o apelido (alias) `sns`."
      ]
    },
    {
      "cell_type": "code",
      "execution_count": null,
      "metadata": {
        "id": "fAeWYQjis8E5"
      },
      "outputs": [],
      "source": [
        "import seaborn as sns"
      ]
    },
    {
      "cell_type": "markdown",
      "metadata": {
        "id": "TqYmOY1m0Eh3"
      },
      "source": [
        "Vamos visualizar o os valores de abertura das ações ao longo do tempo."
      ]
    },
    {
      "cell_type": "code",
      "execution_count": null,
      "metadata": {
        "id": "7-5D1wKcwAuO"
      },
      "outputs": [],
      "source": [
        "plot = sns.lineplot(x=\"date\", y=\"open\", data=df_mcd)\n",
        "_ = plot.set_xticklabels(labels=df_mcd['date'], rotation=90)"
      ]
    },
    {
      "cell_type": "markdown",
      "metadata": {
        "id": "gh5Fz23t0MA-"
      },
      "source": [
        "Vamos também visualizar o os valores de fechamento das ações ao longo do tempo."
      ]
    },
    {
      "cell_type": "code",
      "execution_count": null,
      "metadata": {
        "id": "5QARzs47wP_O"
      },
      "outputs": [],
      "source": [
        "plot = sns.lineplot(x=\"date\", y=\"close\", data=df_mcd)\n",
        "_ = plot.set_xticklabels(labels=df_mcd['date'], rotation=90)"
      ]
    },
    {
      "cell_type": "markdown",
      "metadata": {
        "id": "08BOzhId0TfH"
      },
      "source": [
        "Para facilitar a comparação, vamo visualizar os quatro valores no mesmo gráfico."
      ]
    },
    {
      "cell_type": "code",
      "execution_count": null,
      "metadata": {
        "id": "boKoMZbXtAJV"
      },
      "outputs": [],
      "source": [
        "plot = sns.lineplot(x=\"date\", y=\"value\", hue='variable', data=pd.melt(df_mcd, ['date']))\n",
        "_ = plot.set_xticklabels(labels=df_mcd['date'], rotation=90)"
      ]
    },
    {
      "cell_type": "markdown",
      "metadata": {
        "id": "H6nM4hJQ1mnb"
      },
      "source": [
        "Para finalizar, vamos salvar o gráfico numa figura."
      ]
    },
    {
      "cell_type": "code",
      "execution_count": null,
      "metadata": {
        "id": "I7Wncbvd1lzE"
      },
      "outputs": [],
      "source": [
        "plot.figure.savefig(\"./mcd.png\")"
      ]
    },
    {
      "cell_type": "markdown",
      "metadata": {
        "id": "4mJNcUM7kR5J"
      },
      "source": [
        "**Agora é a sua vez,** faça o gráfico acima para a empresa Coca-Cola e salve a imagem com o nome `ko.png`."
      ]
    },
    {
      "cell_type": "code",
      "execution_count": null,
      "metadata": {
        "id": "0S_xMlt_zjwV"
      },
      "outputs": [],
      "source": [
        "# visualização dos dados da Coca-Cola."
      ]
    },
    {
      "cell_type": "markdown",
      "metadata": {
        "id": "fYM0WRi0zoQx"
      },
      "source": [
        "Analise as duas imagens e escreva pelo menos um *insight* que você consegue extrair dos dados. Fique a vontade para escrever quantos *insights* você quiser."
      ]
    },
    {
      "cell_type": "markdown",
      "metadata": {
        "id": "xGcI2Yl-0xBY"
      },
      "source": [
        "**Insight #1**: ..."
      ]
    },
    {
      "cell_type": "markdown",
      "metadata": {
        "id": "8Ubx9z_NkR5K"
      },
      "source": [
        "---"
      ]
    }
  ],
  "metadata": {
    "colab": {
      "collapsed_sections": [],
      "name": "module_7_exercise.ipynb",
      "provenance": [],
      "toc_visible": true
    },
    "kernelspec": {
      "display_name": "Python 3",
      "name": "python3"
    },
    "language_info": {
      "codemirror_mode": {
        "name": "ipython",
        "version": 3
      },
      "file_extension": ".py",
      "mimetype": "text/x-python",
      "name": "python",
      "nbconvert_exporter": "python",
      "pygments_lexer": "ipython3",
      "version": "3.12.6"
    }
  },
  "nbformat": 4,
  "nbformat_minor": 0
}
